{
 "cells": [
  {
   "cell_type": "code",
   "execution_count": 48,
   "id": "8519aeef-f8c3-40f3-ab3b-0be72906547c",
   "metadata": {},
   "outputs": [],
   "source": [
    "# !pip install pandas\n",
    "# !pip install DateTime"
   ]
  },
  {
   "cell_type": "code",
   "execution_count": 27,
   "id": "982bf5aa-bdcf-4194-b5df-acaa053c51bb",
   "metadata": {},
   "outputs": [
    {
     "name": "stdout",
     "output_type": "stream",
     "text": [
      "✅ Test email successfully sent.\n"
     ]
    }
   ],
   "source": [
    "import smtplib\n",
    "\n",
    "GMAIL_ID = \"....@gmail.com\"\n",
    "GMAIL_PSWD = \"\"\n",
    "\n",
    "def send_test_email():\n",
    "    try:\n",
    "        s = smtplib.SMTP('smtp.gmail.com', 587)\n",
    "        s.starttls()\n",
    "        s.login(GMAIL_ID, GMAIL_PSWD)\n",
    "        subject = \"Test Email\"\n",
    "        body = \"This is a test email.\"\n",
    "        to = \"padwalkeshav@gmail.com\"\n",
    "        s.sendmail(GMAIL_ID, to, f\"Subject: {subject} \\n\\n {body}\")\n",
    "        s.quit()\n",
    "        print(\"✅ Test email successfully sent.\")\n",
    "    except Exception as e:\n",
    "        print(f\"❌ Failed to send test email: {e}\")\n",
    "\n",
    "send_test_email()\n"
   ]
  },
  {
   "cell_type": "code",
   "execution_count": 1,
   "id": "30d3efad-7d3a-4a33-a91b-dfbf38f35773",
   "metadata": {},
   "outputs": [
    {
     "name": "stdout",
     "output_type": "stream",
     "text": [
      "Current path: C:\\Users\\nagen\n"
     ]
    },
    {
     "name": "stdin",
     "output_type": "stream",
     "text": [
      "Enter your email:  nagendraojha3152000@gmail.com\n",
      "Enter your app password:  cxuw lyzi rwyu tqfd\n"
     ]
    },
    {
     "name": "stdout",
     "output_type": "stream",
     "text": [
      "Checking: Keshav | Bday: 15-04 | Today: 15-04 | LastWishedAt: \n",
      "📤 Sending email to padwalkeshav@gmail.com...\n",
      "✅ Email successfully sent to padwalkeshav@gmail.com!\n",
      "Checking: sql | Bday: 15-04 | Today: 15-04 | LastWishedAt: \n",
      "📤 Sending email to saquibneyaz57@gmail.com...\n",
      "✅ Email successfully sent to saquibneyaz57@gmail.com!\n",
      "✅ Data updated and saved to 'data.xlsx'\n"
     ]
    }
   ],
   "source": [
    "import pandas as pd\n",
    "import datetime\n",
    "import smtplib\n",
    "import os\n",
    "\n",
    "# ✅ Get current working directory\n",
    "current_path = os.getcwd()\n",
    "print(\"Current path:\", current_path)\n",
    "os.chdir(current_path)\n",
    "\n",
    "# ✅ Email credentials\n",
    "GMAIL_ID = input(\"Enter your email: \").strip()\n",
    "GMAIL_PSWD = input(\"Enter your app password: \").strip()\n",
    "\n",
    "# ✅ Function to send email\n",
    "def sendEmail(to, sub, msg):\n",
    "    try:\n",
    "        print(f\"📤 Sending email to {to}...\")\n",
    "        s = smtplib.SMTP('smtp.gmail.com', 587)\n",
    "        s.starttls()\n",
    "        s.login(GMAIL_ID, GMAIL_PSWD)\n",
    "        message = f\"Subject: {sub}\\n\\n{msg}\"\n",
    "        s.sendmail(GMAIL_ID, to, message.encode('utf-8'))\n",
    "        s.quit()\n",
    "        print(f\"✅ Email successfully sent to {to}!\")\n",
    "    except Exception as e:\n",
    "        print(f\"❌ Failed to send email to {to}: {e}\")\n",
    "\n",
    "# ✅ Main logic\n",
    "if __name__ == \"__main__\":\n",
    "    try:\n",
    "        df = pd.read_excel(\"data.xlsx\")\n",
    "    except Exception as e:\n",
    "        print(\"❌ Could not read Excel file:\", e)\n",
    "        exit()\n",
    "\n",
    "    now = datetime.datetime.now()\n",
    "    today_str = now.strftime(\"%d-%m\")\n",
    "    yearNow = now.strftime(\"%Y\")\n",
    "\n",
    "    writeInd = []\n",
    "\n",
    "    for index, item in df.iterrows():\n",
    "        try:\n",
    "            name = item['Name']\n",
    "            email = str(item['Email']).strip()\n",
    "            dialogue = str(item['Dialogue'])\n",
    "            raw_bday = str(item['Birthday']).strip()\n",
    "            last_wished_at = item.get('LastWishedAt', '')\n",
    "\n",
    "            bday = datetime.datetime.strptime(raw_bday, \"%d-%m-%Y\").strftime(\"%d-%m\")\n",
    "\n",
    "            # Default: assume we can send\n",
    "            can_send = True\n",
    "\n",
    "            if pd.notna(last_wished_at):\n",
    "                try:\n",
    "                    last_wished_dt = pd.to_datetime(last_wished_at)\n",
    "                    diff = now - last_wished_dt\n",
    "                    if diff.total_seconds() < 86400:\n",
    "                        can_send = False  # already sent within 24 hours\n",
    "                except Exception as e:\n",
    "                    print(f\"⚠️ Error parsing timestamp for {name}: {e}\")\n",
    "                    can_send = True  # If parsing fails, assume can send\n",
    "\n",
    "            print(f\"Checking: {name} | Bday: {bday} | Today: {today_str} | LastWishedAt: {last_wished_at}\")\n",
    "\n",
    "            if today_str == bday and can_send:\n",
    "                message = f\"Hey {name},\\n\\n🎂 {dialogue} 🎈\\n\\nBest wishes!\"\n",
    "                sendEmail(email, \"🎉 Happy Birthday!\", message)\n",
    "                writeInd.append(index)\n",
    "\n",
    "        except Exception as e:\n",
    "            print(f\"⚠️ Error processing row {index}: {e}\")\n",
    "\n",
    "    # ✅ Update LastWishedAt\n",
    "    if writeInd:\n",
    "        for i in writeInd:\n",
    "            df.loc[i, 'LastWishedAt'] = now.strftime(\"%Y-%m-%d %H:%M:%S\")\n",
    "\n",
    "        df.to_excel('data.xlsx', index=False)\n",
    "        print(\"✅ Data updated and saved to 'data.xlsx'\")\n",
    "    else:\n",
    "        print(\"ℹ️ No birthday today or already wished in the last 24 hours.\")\n"
   ]
  },
  {
   "cell_type": "code",
   "execution_count": 45,
   "id": "3a7e5761-3208-44e9-92cf-3d18115ddbdf",
   "metadata": {},
   "outputs": [
    {
     "name": "stdout",
     "output_type": "stream",
     "text": [
      "   Sno    Name    Birthday                         Dialogue  LastWishedYear  \\\n",
      "0    1  Keshav  15-04-2025  keshav Happy Birthday to you!!!            2025   \n",
      "\n",
      "                    Email         LastWishedAt  \n",
      "0  padwalkeshav@gmail.com  2025-04-15 15:19:59  \n"
     ]
    }
   ],
   "source": [
    "import pandas as pd\n",
    "\n",
    "df = pd.read_excel('data.xlsx')\n",
    "print(df.head())\n",
    "\n"
   ]
  },
  {
   "cell_type": "code",
   "execution_count": null,
   "id": "61aaa3d3-aed4-4713-9fe8-77e70a492a2c",
   "metadata": {},
   "outputs": [],
   "source": []
  }
 ],
 "metadata": {
  "kernelspec": {
   "display_name": "Python [conda env:base] *",
   "language": "python",
   "name": "conda-base-py"
  },
  "language_info": {
   "codemirror_mode": {
    "name": "ipython",
    "version": 3
   },
   "file_extension": ".py",
   "mimetype": "text/x-python",
   "name": "python",
   "nbconvert_exporter": "python",
   "pygments_lexer": "ipython3",
   "version": "3.12.7"
  }
 },
 "nbformat": 4,
 "nbformat_minor": 5
}
